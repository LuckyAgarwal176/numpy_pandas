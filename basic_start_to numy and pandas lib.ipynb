{
 "cells": [
  {
   "cell_type": "markdown",
   "metadata": {
    "colab_type": "text",
    "id": "jZEkUUZDbehV"
   },
   "source": [
    "##  Table of Content\n",
    "\n",
    "1. **[One Dimensional Array](#1D)**\n",
    "2. **[Two Dimensional Array](#2D)**\n",
    "3. **[Stacking](#Stacking)**\n",
    "4. **[Splitting](#Splitting)**\n",
    "5. **[For Loop](#loop)**"
   ]
  },
  {
   "cell_type": "markdown",
   "metadata": {
    "colab_type": "text",
    "id": "MHPttB0tbehW"
   },
   "source": [
    "**Import the NumPy library before solving the exercises**"
   ]
  },
  {
   "cell_type": "markdown",
   "metadata": {
    "colab_type": "text",
    "id": "L8TzYuGWbehW"
   },
   "source": [
    "### Let's begin with some hands-on practice exercises"
   ]
  },
  {
   "cell_type": "markdown",
   "metadata": {
    "colab_type": "text",
    "id": "xfum17oYbehX"
   },
   "source": [
    "<a id=\"1D\"> </a>\n",
    "## 1. One Dimensional Array"
   ]
  },
  {
   "cell_type": "markdown",
   "metadata": {
    "colab_type": "text",
    "id": "depCyxbdbehY"
   },
   "source": [
    "<table align=\"left\">\n",
    "    <tr>\n",
    "        <td width=\"6%\">\n",
    "            <img src=\"question_icon.png\">\n",
    "        </td>\n",
    "        <td>\n",
    "            <div align=\"left\", style=\"font-size:120%\">\n",
    "                <font color=\"#21618C\">\n",
    "                    <b>1. Write a NumPy program to convert a list of numeric values into a one-dimensional NumPy array</b>\n",
    "                </font>\n",
    "            </div>\n",
    "        </td>\n",
    "    </tr>\n",
    "</table>"
   ]
  },
  {
   "cell_type": "markdown",
   "metadata": {
    "colab_type": "text",
    "id": "id8gb5YXbehY"
   },
   "source": [
    "**Use the list given below: (or create your own list)**<br>\n",
    "\n",
    "    list_temperature = [3.04, 1.65, 5.76, 1.66, 1.54, 4.69, 2.68]"
   ]
  },
  {
   "cell_type": "code",
   "execution_count": 2,
   "metadata": {},
   "outputs": [
    {
     "name": "stdout",
     "output_type": "stream",
     "text": [
      "[3.04 1.65 5.76 1.66 1.54 4.69 2.68]\n"
     ]
    },
    {
     "data": {
      "text/plain": [
       "numpy.ndarray"
      ]
     },
     "execution_count": 2,
     "metadata": {},
     "output_type": "execute_result"
    }
   ],
   "source": [
    "list_temperature = [3.04, 1.65, 5.76, 1.66, 1.54, 4.69, 2.68]\n",
    "b=np.array(list_temperature)\n",
    "print(b)\n",
    "type(b)"
   ]
  },
  {
   "cell_type": "code",
   "execution_count": 3,
   "metadata": {},
   "outputs": [
    {
     "data": {
      "text/plain": [
       "array([3.04, 1.65, 5.76, 1.66, 1.54, 4.69, 2.68])"
      ]
     },
     "execution_count": 3,
     "metadata": {},
     "output_type": "execute_result"
    }
   ],
   "source": [
    "a=np.array( [3.04, 1.65, 5.76, 1.66, 1.54, 4.69, 2.68] )\n",
    "a"
   ]
  },
  {
   "cell_type": "markdown",
   "metadata": {
    "colab_type": "text",
    "id": "dzppBkKlbehd"
   },
   "source": [
    "<table align=\"left\">\n",
    "    <tr>\n",
    "        <td width=\"6%\">\n",
    "            <img src=\"question_icon.png\">\n",
    "        </td>\n",
    "        <td>\n",
    "            <div align=\"left\", style=\"font-size:120%\">\n",
    "                <font color=\"#21618C\">\n",
    "                    <b>2. Create a 1D array of weights of 10 students and retrieve all the weights greater than 68</b>\n",
    "                </font>\n",
    "            </div>\n",
    "        </td>\n",
    "    </tr>\n",
    "</table>"
   ]
  },
  {
   "cell_type": "markdown",
   "metadata": {
    "colab_type": "text",
    "id": "67NOJtMfbehd"
   },
   "source": [
    "**Use the weights given below: (or create your own list)**\n",
    "\n",
    "    weights = [74.2, 85, 74, 67.9, 52, 70.5, 86, 51.8, 64, 82]"
   ]
  },
  {
   "cell_type": "code",
   "execution_count": 8,
   "metadata": {
    "colab": {},
    "colab_type": "code",
    "id": "EiwNG6NQbehe"
   },
   "outputs": [
    {
     "data": {
      "text/plain": [
       "array([74.2, 85. , 74. , 70.5, 86. , 82. ])"
      ]
     },
     "execution_count": 8,
     "metadata": {},
     "output_type": "execute_result"
    }
   ],
   "source": [
    "weights = [74.2, 85, 74, 67.9, 52, 70.5, 86, 51.8, 64, 82]\n",
    "students_weight=np.array(weights)\n",
    "students_weight[students_weight>68]"
   ]
  },
  {
   "cell_type": "markdown",
   "metadata": {
    "colab_type": "text",
    "id": "HBYsorFEbehh"
   },
   "source": [
    "<table align=\"left\">\n",
    "    <tr>\n",
    "        <td width=\"6%\">\n",
    "            <img src=\"question_icon.png\">\n",
    "        </td>\n",
    "        <td>\n",
    "            <div align=\"left\", style=\"font-size:120%\">\n",
    "                <font color=\"#21618C\">\n",
    "                    <b>3. Write a code to generate 10 random integers between 20 to 40 (Is it possible to generate same random numbers everytime? If yes, describe the function)\n",
    "                    </b>\n",
    "                </font>\n",
    "            </div>\n",
    "        </td>\n",
    "    </tr>\n",
    "</table>"
   ]
  },
  {
   "cell_type": "code",
   "execution_count": 9,
   "metadata": {
    "colab": {},
    "colab_type": "code",
    "id": "wXvPOmTabehi"
   },
   "outputs": [
    {
     "data": {
      "text/plain": [
       "array([28, 36, 29, 31, 20, 25, 26, 35, 39, 38])"
      ]
     },
     "execution_count": 9,
     "metadata": {},
     "output_type": "execute_result"
    }
   ],
   "source": [
    "np.random.randint(20,40,10)"
   ]
  },
  {
   "cell_type": "code",
   "execution_count": null,
   "metadata": {},
   "outputs": [],
   "source": [
    "it is possible if we save this random integers into a memory location"
   ]
  },
  {
   "cell_type": "markdown",
   "metadata": {
    "colab_type": "text",
    "id": "sgJa1pNfbehk"
   },
   "source": [
    "<table align=\"left\">\n",
    "    <tr>\n",
    "        <td width=\"6%\">\n",
    "            <img src=\"question_icon.png\">\n",
    "        </td>\n",
    "        <td>\n",
    "            <div align=\"left\", style=\"font-size:120%\">\n",
    "                <font color=\"#21618C\">\n",
    "                    <b>4. Write a program to get the fifth power of the first five positive integers\n",
    "                    </b>\n",
    "                </font>\n",
    "            </div>\n",
    "        </td>\n",
    "    </tr>\n",
    "</table>"
   ]
  },
  {
   "cell_type": "code",
   "execution_count": 11,
   "metadata": {
    "colab": {},
    "colab_type": "code",
    "id": "H2B6tOvDbehl"
   },
   "outputs": [
    {
     "data": {
      "text/plain": [
       "array([   1,   32,  243, 1024, 3125], dtype=int32)"
      ]
     },
     "execution_count": 11,
     "metadata": {},
     "output_type": "execute_result"
    }
   ],
   "source": [
    "np.arange(1,6)**5"
   ]
  },
  {
   "cell_type": "markdown",
   "metadata": {
    "colab_type": "text",
    "id": "aQkkjqDZbeho"
   },
   "source": [
    "<table align=\"left\">\n",
    "    <tr>\n",
    "        <td width=\"6%\">\n",
    "            <img src=\"question_icon.png\">\n",
    "        </td>\n",
    "        <td>\n",
    "            <div align=\"left\", style=\"font-size:120%\">\n",
    "                <font color=\"#21618C\">\n",
    "                    <b>5. Write a program to create an array of all the odd integers from 50 to 100 \n",
    "                    </b>\n",
    "                </font>\n",
    "            </div>\n",
    "        </td>\n",
    "    </tr>\n",
    "</table>"
   ]
  },
  {
   "cell_type": "code",
   "execution_count": 12,
   "metadata": {
    "colab": {},
    "colab_type": "code",
    "id": "Qpt-pf1Cbeho"
   },
   "outputs": [
    {
     "data": {
      "text/plain": [
       "array([51, 53, 55, 57, 59, 61, 63, 65, 67, 69, 71, 73, 75, 77, 79, 81, 83,\n",
       "       85, 87, 89, 91, 93, 95, 97, 99])"
      ]
     },
     "execution_count": 12,
     "metadata": {},
     "output_type": "execute_result"
    }
   ],
   "source": [
    "np.arange(51,100,2)"
   ]
  },
  {
   "cell_type": "markdown",
   "metadata": {
    "colab_type": "text",
    "id": "q5Xzt47hbehr"
   },
   "source": [
    "<table align=\"left\">\n",
    "    <tr>\n",
    "        <td width=\"6%\">\n",
    "            <img src=\"question_icon.png\">\n",
    "        </td>\n",
    "        <td>\n",
    "            <div align=\"left\", style=\"font-size:120%\">\n",
    "                <font color=\"#21618C\">\n",
    "                    <b>6. Write a program to calculate the sum of each column </b>\n",
    "                </font>\n",
    "            </div>\n",
    "        </td>\n",
    "    </tr>\n",
    "</table>"
   ]
  },
  {
   "cell_type": "markdown",
   "metadata": {
    "colab_type": "text",
    "id": "ytP3e0lubehs"
   },
   "source": [
    "**Use the array given below: (or create your own array)**\n",
    "\n",
    "    A = [[1, 4, 8], [5, 7, 3], [9, 14, 2]]"
   ]
  },
  {
   "cell_type": "code",
   "execution_count": 26,
   "metadata": {
    "colab": {},
    "colab_type": "code",
    "id": "OhKSiWJFbehs"
   },
   "outputs": [
    {
     "data": {
      "text/plain": [
       "array([15, 25, 13])"
      ]
     },
     "execution_count": 26,
     "metadata": {},
     "output_type": "execute_result"
    }
   ],
   "source": [
    "A = np.array([[1, 4, 8], [5, 7, 3], [9, 14, 2]])\n",
    "A.sum(axis=0)"
   ]
  },
  {
   "cell_type": "markdown",
   "metadata": {
    "colab_type": "text",
    "id": "_Ll-br2qbehv"
   },
   "source": [
    "<table align=\"left\">\n",
    "    <tr>\n",
    "        <td width=\"6%\">\n",
    "            <img src=\"question_icon.png\">\n",
    "        </td>\n",
    "        <td>\n",
    "            <div align=\"left\", style=\"font-size:120%\">\n",
    "                <font color=\"#21618C\">\n",
    "                    <b>7. Write a code to get the element-wise remainder of an array after division by 8 \n",
    "                    </b>\n",
    "                </font>\n",
    "            </div>\n",
    "        </td>\n",
    "    </tr>\n",
    "</table>"
   ]
  },
  {
   "cell_type": "markdown",
   "metadata": {
    "colab_type": "text",
    "id": "Rxa4HT3Obehv"
   },
   "source": [
    "**Use the list given below:**<br>\n",
    "    \n",
    "    num = [42, 87, 90, 14, 32, 75, 61, 80, 92]"
   ]
  },
  {
   "cell_type": "code",
   "execution_count": 15,
   "metadata": {
    "colab": {},
    "colab_type": "code",
    "id": "GWQxTmdMbehw"
   },
   "outputs": [
    {
     "data": {
      "text/plain": [
       "array([2, 7, 2, 6, 0, 3, 5, 0, 4], dtype=int32)"
      ]
     },
     "execution_count": 15,
     "metadata": {},
     "output_type": "execute_result"
    }
   ],
   "source": [
    "a=np.array([42, 87, 90, 14, 32, 75, 61, 80, 92])\n",
    "a%8"
   ]
  },
  {
   "cell_type": "markdown",
   "metadata": {
    "colab_type": "text",
    "id": "cCPkpHF6behy"
   },
   "source": [
    "<a id=\"2D\"> </a>\n",
    "## 2. Two Dimensional Array"
   ]
  },
  {
   "cell_type": "markdown",
   "metadata": {
    "colab_type": "text",
    "id": "mdnO5naVbehy"
   },
   "source": [
    "<table align=\"left\">\n",
    "    <tr>\n",
    "        <td width=\"6%\">\n",
    "            <img src=\"question_icon.png\">\n",
    "        </td>\n",
    "        <td>\n",
    "            <div align=\"left\", style=\"font-size:120%\">\n",
    "                <font color=\"#21618C\">\n",
    "                    <b>8. Create a 2D numpy array from a 1D array of 20 elements of your choice. Further, subset the first 5 elements from the second element of a resulting 2D array \n",
    "                    </b>\n",
    "                </font>\n",
    "            </div>\n",
    "        </td>\n",
    "    </tr>\n",
    "</table>"
   ]
  },
  {
   "cell_type": "code",
   "execution_count": 2,
   "metadata": {
    "colab": {},
    "colab_type": "code",
    "id": "PJi7HXVSbehz"
   },
   "outputs": [
    {
     "data": {
      "text/plain": [
       "array([[ 1,  2,  3,  4,  5],\n",
       "       [ 6,  7,  8,  9, 10],\n",
       "       [11, 12, 13, 14, 15],\n",
       "       [16, 17, 18, 19, 20]])"
      ]
     },
     "execution_count": 2,
     "metadata": {},
     "output_type": "execute_result"
    }
   ],
   "source": [
    "import numpy as np\n",
    "a=np.arange(1,21)\n",
    "b=a.reshape(4,5)\n",
    "b"
   ]
  },
  {
   "cell_type": "code",
   "execution_count": 60,
   "metadata": {},
   "outputs": [
    {
     "data": {
      "text/plain": [
       "array([ 6,  7,  8,  9, 10])"
      ]
     },
     "execution_count": 60,
     "metadata": {},
     "output_type": "execute_result"
    }
   ],
   "source": [
    "b[1]"
   ]
  },
  {
   "cell_type": "markdown",
   "metadata": {
    "colab_type": "text",
    "id": "NGZISX4wbeh4"
   },
   "source": [
    "<table align=\"left\">\n",
    "    <tr>\n",
    "        <td width=\"6%\">\n",
    "            <img src=\"question_icon.png\">\n",
    "        </td>\n",
    "        <td>\n",
    "            <div align=\"left\", style=\"font-size:120%\">\n",
    "                <font color=\"#21618C\">\n",
    "                    <b>9. Write a program to find common values between two arrays \n",
    "                    </b>\n",
    "                </font>\n",
    "            </div>\n",
    "        </td>\n",
    "    </tr>\n",
    "</table>"
   ]
  },
  {
   "cell_type": "code",
   "execution_count": null,
   "metadata": {},
   "outputs": [],
   "source": []
  },
  {
   "cell_type": "markdown",
   "metadata": {
    "colab_type": "text",
    "id": "M-SEltsQbeh5"
   },
   "source": [
    "**Use the lists given below:**<br>\n",
    "\n",
    "    prices_monday = [10, 30, 50, 60, 90]\n",
    "\n",
    "    prices_tuesday = [50, 20, 80, 125, 10, 70]"
   ]
  },
  {
   "cell_type": "code",
   "execution_count": 10,
   "metadata": {
    "colab": {},
    "colab_type": "code",
    "id": "oPKuRQNxbeh5"
   },
   "outputs": [
    {
     "data": {
      "text/plain": [
       "array([10, 50])"
      ]
     },
     "execution_count": 10,
     "metadata": {},
     "output_type": "execute_result"
    }
   ],
   "source": [
    "prices_monday =np.array( [10, 30, 50, 60, 90])\n",
    "\n",
    "prices_tuesday = np.array([50, 20, 80, 125, 10, 70])\n",
    "\n",
    "\n",
    "np.intersect1d(prices_monday,prices_tuesday)\n"
   ]
  },
  {
   "cell_type": "code",
   "execution_count": 18,
   "metadata": {},
   "outputs": [
    {
     "name": "stdout",
     "output_type": "stream",
     "text": [
      "[10, 50]\n"
     ]
    }
   ],
   "source": [
    "prices_monday =np.array( [10, 30, 50, 60, 90])\n",
    "\n",
    "prices_tuesday = np.array([50, 20, 80, 125, 10, 70])\n",
    "c=[]\n",
    "for i in prices_monday:\n",
    "    for j in prices_tuesday:\n",
    "        if i==j:\n",
    "            c.append(i)\n",
    "print(c)\n",
    "            "
   ]
  },
  {
   "cell_type": "code",
   "execution_count": 20,
   "metadata": {},
   "outputs": [
    {
     "data": {
      "text/plain": [
       "[10, 50]"
      ]
     },
     "execution_count": 20,
     "metadata": {},
     "output_type": "execute_result"
    }
   ],
   "source": [
    "[i for i in prices_monday for j in prices_tuesday if i==j ]"
   ]
  },
  {
   "cell_type": "code",
   "execution_count": 25,
   "metadata": {},
   "outputs": [
    {
     "data": {
      "text/plain": [
       "[10, 50]"
      ]
     },
     "execution_count": 25,
     "metadata": {},
     "output_type": "execute_result"
    }
   ],
   "source": [
    "[i for i in prices_monday if i in prices_tuesday]"
   ]
  },
  {
   "cell_type": "markdown",
   "metadata": {
    "colab_type": "text",
    "id": "7IAO_XIgbeh8"
   },
   "source": [
    "<table align=\"left\">\n",
    "    <tr>\n",
    "        <td width=\"6%\">\n",
    "            <img src=\"question_icon.png\">\n",
    "        </td>\n",
    "        <td>\n",
    "            <div align=\"left\", style=\"font-size:120%\">\n",
    "                <font color=\"#21618C\">\n",
    "                    <b>10. Write a program to find BMI of the patients whose height and weight is provided in the list given below \n",
    "                    </b>\n",
    "                </font>\n",
    "            </div>\n",
    "        </td>\n",
    "    </tr>\n",
    "</table>"
   ]
  },
  {
   "cell_type": "markdown",
   "metadata": {
    "colab_type": "text",
    "id": "0hd186vdbeh8"
   },
   "source": [
    "**Use the lists given below:**<br>\n",
    "\n",
    "    list of weights (in kg)\n",
    "    weights = [57, 69, 54, 65 ,71, 62, 56]\n",
    "\n",
    "    list of heights (in m)<br>\n",
    "    heights = [1.59, 1.75, 1.66, 1.74, 1.64, 1.72, 1.53] "
   ]
  },
  {
   "cell_type": "code",
   "execution_count": 28,
   "metadata": {
    "colab": {},
    "colab_type": "code",
    "id": "pak7zb0nbeh9"
   },
   "outputs": [
    {
     "data": {
      "text/plain": [
       "array([22.54657648, 22.53061224, 19.59645812, 21.46915048, 26.39797739,\n",
       "       20.9572742 , 23.922423  ])"
      ]
     },
     "execution_count": 28,
     "metadata": {},
     "output_type": "execute_result"
    }
   ],
   "source": [
    "weights = np.array([57, 69, 54, 65 ,71, 62, 56])\n",
    "heights = np.array([1.59, 1.75, 1.66, 1.74, 1.64, 1.72, 1.53])\n",
    "BMI= weights/heights**2\n",
    "BMI"
   ]
  },
  {
   "cell_type": "markdown",
   "metadata": {
    "colab_type": "text",
    "id": "ec1kOlTSbeh_"
   },
   "source": [
    "<table align=\"left\">\n",
    "    <tr>\n",
    "        <td width=\"6%\">\n",
    "            <img src=\"question_icon.png\">\n",
    "        </td>\n",
    "        <td>\n",
    "            <div align=\"left\", style=\"font-size:120%\">\n",
    "                <font color=\"#21618C\">\n",
    "                    <b>11. Write a program to add a new column ([5,7]) at the last position in the array given below \n",
    "                    </b>\n",
    "                </font>\n",
    "            </div>\n",
    "        </td>\n",
    "    </tr>\n",
    "</table>"
   ]
  },
  {
   "cell_type": "markdown",
   "metadata": {
    "colab_type": "text",
    "id": "74rcorbKbeh_"
   },
   "source": [
    "**Use the array given below:**\n",
    "\n",
    "    array1 = [[[3, 4], [8, 2],[5, 9]]]"
   ]
  },
  {
   "cell_type": "code",
   "execution_count": 32,
   "metadata": {
    "colab": {},
    "colab_type": "code",
    "id": "jMSSaHygbeiA"
   },
   "outputs": [
    {
     "data": {
      "text/plain": [
       "array([[[3, 4],\n",
       "        [8, 2],\n",
       "        [5, 9],\n",
       "        [5, 7]]])"
      ]
     },
     "execution_count": 32,
     "metadata": {},
     "output_type": "execute_result"
    }
   ],
   "source": [
    "array1 = np.array([[[3, 4], [8, 2],[5, 9]]])i\n",
    "new_array=np.insert(array1,obj=3,values=[5,7],axis=1)\n",
    "\n",
    "new_array"
   ]
  },
  {
   "cell_type": "markdown",
   "metadata": {
    "colab_type": "text",
    "id": "LlOzsXogbeiC"
   },
   "source": [
    "\n",
    "12. Write a code to print the identity matrix of order 5\n",
    "                "
   ]
  },
  {
   "cell_type": "code",
   "execution_count": 29,
   "metadata": {
    "colab": {},
    "colab_type": "code",
    "id": "ZJh7inO1beiC"
   },
   "outputs": [
    {
     "data": {
      "text/plain": [
       "array([[1., 0., 0., 0., 0.],\n",
       "       [0., 1., 0., 0., 0.],\n",
       "       [0., 0., 1., 0., 0.],\n",
       "       [0., 0., 0., 1., 0.],\n",
       "       [0., 0., 0., 0., 1.]])"
      ]
     },
     "execution_count": 29,
     "metadata": {},
     "output_type": "execute_result"
    }
   ],
   "source": [
    "np.eye(5)"
   ]
  },
  {
   "cell_type": "markdown",
   "metadata": {
    "colab_type": "text",
    "id": "aFajPHw0beiE"
   },
   "source": [
    "<table align=\"left\">\n",
    "    <tr>\n",
    "        <td width=\"6%\">\n",
    "            <img src=\"question_icon.png\">\n",
    "        </td>\n",
    "        <td>\n",
    "            <div align=\"left\", style=\"font-size:120%\">\n",
    "                <font color=\"#21618C\">\n",
    "                    <b>13. Write a program to transpose a matrix \n",
    "                    </b>\n",
    "                </font>\n",
    "            </div>\n",
    "        </td>\n",
    "    </tr>\n",
    "</table>"
   ]
  },
  {
   "cell_type": "markdown",
   "metadata": {
    "colab_type": "text",
    "id": "FDsZ9zD6beiE"
   },
   "source": [
    "**Use the matrix given below:**\n",
    "    \n",
    "    M = [[15, 17, 45, 56], [7, 42, 15, 63], [54, 3, 61, 41], [0, 87, 16, 20]]"
   ]
  },
  {
   "cell_type": "code",
   "execution_count": 41,
   "metadata": {
    "colab": {},
    "colab_type": "code",
    "id": "vQkvDxk1beiF"
   },
   "outputs": [
    {
     "data": {
      "text/plain": [
       "array([[15,  7, 54,  0],\n",
       "       [17, 42,  3, 87],\n",
       "       [45, 15, 61, 16],\n",
       "       [56, 63, 41, 20]])"
      ]
     },
     "execution_count": 41,
     "metadata": {},
     "output_type": "execute_result"
    }
   ],
   "source": [
    "M =np.array( [[15, 17, 45, 56], [7, 42, 15, 63], [54, 3, 61, 41], [0, 87, 16, 20]])\n",
    "np.transpose(M)\n"
   ]
  },
  {
   "cell_type": "code",
   "execution_count": 42,
   "metadata": {},
   "outputs": [
    {
     "data": {
      "text/plain": [
       "array([[15,  7, 54,  0],\n",
       "       [17, 42,  3, 87],\n",
       "       [45, 15, 61, 16],\n",
       "       [56, 63, 41, 20]])"
      ]
     },
     "execution_count": 42,
     "metadata": {},
     "output_type": "execute_result"
    }
   ],
   "source": [
    "M.T"
   ]
  },
  {
   "cell_type": "code",
   "execution_count": null,
   "metadata": {},
   "outputs": [],
   "source": []
  },
  {
   "cell_type": "markdown",
   "metadata": {
    "colab_type": "text",
    "id": "ocSa1c5zbeiH"
   },
   "source": [
    "<a id=\"Stacking\"> </a>\n",
    "## 3. Stacking"
   ]
  },
  {
   "cell_type": "markdown",
   "metadata": {
    "colab_type": "text",
    "id": "GJzjoAASbeiJ"
   },
   "source": [
    "<table align=\"left\">\n",
    "    <tr>\n",
    "        <td width=\"6%\">\n",
    "            <img src=\"question_icon.png\">\n",
    "        </td>\n",
    "        <td>\n",
    "            <div align=\"left\", style=\"font-size:120%\">\n",
    "                <font color=\"#21618C\">\n",
    "                    <b>14. Write a program to combine the two arrays vertically</b>\n",
    "                </font>\n",
    "            </div>\n",
    "        </td>\n",
    "    </tr>\n",
    "</table>"
   ]
  },
  {
   "cell_type": "markdown",
   "metadata": {
    "colab_type": "text",
    "id": "A4V3JmW4beiJ"
   },
   "source": [
    "**Use the arrays given below: (or create your own array)**<br>\n",
    "\n",
    "    A1 = [[5, 9], [7, 6]]\n",
    "\n",
    "    A2 = [[8,-7], [0,4]]\n",
    "\n",
    "Combine the array A2 with A1"
   ]
  },
  {
   "cell_type": "code",
   "execution_count": 9,
   "metadata": {},
   "outputs": [
    {
     "data": {
      "text/plain": [
       "array([[[ 5,  9],\n",
       "        [ 7,  6]],\n",
       "\n",
       "       [[ 8, -7],\n",
       "        [ 0,  4]]])"
      ]
     },
     "execution_count": 9,
     "metadata": {},
     "output_type": "execute_result"
    }
   ],
   "source": [
    "A1 =np.array( [[5, 9], [7, 6]])\n",
    "\n",
    "A2 = np.array([[8,-7], [0,4]])\n",
    "np.stack([A1,A2],axis=0)"
   ]
  },
  {
   "cell_type": "code",
   "execution_count": 34,
   "metadata": {
    "colab": {},
    "colab_type": "code",
    "id": "urVo4cp4beiK"
   },
   "outputs": [
    {
     "data": {
      "text/plain": [
       "array([[ 8, -7],\n",
       "       [ 0,  4],\n",
       "       [ 5,  9],\n",
       "       [ 7,  6]])"
      ]
     },
     "execution_count": 34,
     "metadata": {},
     "output_type": "execute_result"
    }
   ],
   "source": [
    "A1 =np.array( [[5, 9], [7, 6]])\n",
    "\n",
    "A2 = np.array([[8,-7], [0,4]])\n",
    "np.vstack([A2,A1])"
   ]
  },
  {
   "cell_type": "markdown",
   "metadata": {
    "colab_type": "text",
    "id": "RhdRGMQ9beiM"
   },
   "source": [
    "<table align=\"left\">\n",
    "    <tr>\n",
    "        <td width=\"6%\">\n",
    "            <img src=\"question_icon.png\">\n",
    "        </td>\n",
    "        <td>\n",
    "            <div align=\"left\", style=\"font-size:120%\">\n",
    "                <font color=\"#21618C\">\n",
    "                    <b>15. Write a code to combine the two arrays horizontally</b>\n",
    "                </font>\n",
    "            </div>\n",
    "        </td>\n",
    "    </tr>\n",
    "</table>"
   ]
  },
  {
   "cell_type": "markdown",
   "metadata": {
    "colab_type": "text",
    "id": "a6Ns43vebeiM"
   },
   "source": [
    "**Use the arrays given below: (or create your own array)**\n",
    "\n",
    "    A1 = [[-81, 75, 40], [27, 67, 52]]\n",
    "\n",
    "    A2 = [[15, 54], [39, 56]]\n",
    "\n",
    "Combine the array A2 with A1"
   ]
  },
  {
   "cell_type": "code",
   "execution_count": 38,
   "metadata": {
    "colab": {},
    "colab_type": "code",
    "id": "w640e_vMbeiN"
   },
   "outputs": [
    {
     "data": {
      "text/plain": [
       "array([[ 15,  54, -81,  75,  40],\n",
       "       [ 39,  56,  27,  67,  52]])"
      ]
     },
     "execution_count": 38,
     "metadata": {},
     "output_type": "execute_result"
    }
   ],
   "source": [
    "A1 =np.array( [[-81, 75, 40], [27, 67, 52]])\n",
    "\n",
    "A2 =np.array( [[15, 54], [39, 56]])\n",
    "np.hstack([A2,A1])"
   ]
  },
  {
   "cell_type": "markdown",
   "metadata": {
    "colab_type": "text",
    "id": "rJoFdILPbeiP"
   },
   "source": [
    "<a id=\"Splitting\"> </a>\n",
    "## 4. Splitting"
   ]
  },
  {
   "cell_type": "markdown",
   "metadata": {
    "colab_type": "text",
    "id": "MImHyrD4beiQ"
   },
   "source": [
    "<table align=\"left\">\n",
    "    <tr>\n",
    "        <td width=\"6%\">\n",
    "            <img src=\"question_icon.png\">\n",
    "        </td>\n",
    "        <td>\n",
    "            <div align=\"left\", style=\"font-size:120%\">\n",
    "                <font color=\"#21618C\">\n",
    "                    <b>16. Write a code to divide the array into three sub-arrays containing\n",
    "                       equal number of rows</b>\n",
    "                </font>\n",
    "            </div>\n",
    "        </td>\n",
    "    </tr>\n",
    "</table>"
   ]
  },
  {
   "cell_type": "markdown",
   "metadata": {
    "colab_type": "text",
    "id": "qRNYzdgGbeiQ"
   },
   "source": [
    "**Use the array given below:**<br>\n",
    "\n",
    "    A = [[4, 7], [2, -3], [8, 1], [0, 9], [5,-1], [8, 3]]"
   ]
  },
  {
   "cell_type": "code",
   "execution_count": 51,
   "metadata": {
    "colab": {},
    "colab_type": "code",
    "id": "IDQemShwbeiQ"
   },
   "outputs": [
    {
     "name": "stdout",
     "output_type": "stream",
     "text": [
      "[[ 4  7]\n",
      " [ 2 -3]\n",
      " [ 8  1]\n",
      " [ 0  9]\n",
      " [ 5 -1]\n",
      " [ 8  3]]\n"
     ]
    },
    {
     "data": {
      "text/plain": [
       "[array([[ 4,  7],\n",
       "        [ 2, -3]]),\n",
       " array([[8, 1],\n",
       "        [0, 9]]),\n",
       " array([[ 5, -1],\n",
       "        [ 8,  3]])]"
      ]
     },
     "execution_count": 51,
     "metadata": {},
     "output_type": "execute_result"
    }
   ],
   "source": [
    "A = np.array([[4, 7], [2, -3], [8, 1], [0, 9], [5,-1], [8, 3]])\n",
    "print(A)\n",
    "np.vsplit(A,3)"
   ]
  },
  {
   "cell_type": "markdown",
   "metadata": {
    "colab_type": "text",
    "id": "shQHWLIHbeiT"
   },
   "source": [
    "<table align=\"left\">\n",
    "    <tr>\n",
    "        <td width=\"6%\">\n",
    "            <img src=\"question_icon.png\">\n",
    "        </td>\n",
    "        <td>\n",
    "            <div align=\"left\", style=\"font-size:120%\">\n",
    "                <font color=\"#21618C\">\n",
    "                    <b>17. Write a program to divide the array into two sub-arrays containing equal number of columns\n",
    "                    </b>\n",
    "                </font>\n",
    "            </div>\n",
    "        </td>\n",
    "    </tr>\n",
    "</table>"
   ]
  },
  {
   "cell_type": "markdown",
   "metadata": {
    "colab_type": "text",
    "id": "yU-xkFPvbeiT"
   },
   "source": [
    "**Use the array given below:**\n",
    "\n",
    "    B = [[8, 7, 0, 9], [2, -3, 5, 10], [8, 5, -1,3]]"
   ]
  },
  {
   "cell_type": "code",
   "execution_count": 54,
   "metadata": {
    "colab": {},
    "colab_type": "code",
    "id": "qamvSdNAbeiU"
   },
   "outputs": [
    {
     "name": "stdout",
     "output_type": "stream",
     "text": [
      "[[ 8  7  0  9]\n",
      " [ 2 -3  5 10]\n",
      " [ 8  5 -1  3]]\n"
     ]
    },
    {
     "data": {
      "text/plain": [
       "[array([[ 8,  7],\n",
       "        [ 2, -3],\n",
       "        [ 8,  5]]),\n",
       " array([[ 0,  9],\n",
       "        [ 5, 10],\n",
       "        [-1,  3]])]"
      ]
     },
     "execution_count": 54,
     "metadata": {},
     "output_type": "execute_result"
    }
   ],
   "source": [
    "B = np.array([[8, 7, 0, 9], [2, -3, 5, 10], [8, 5, -1,3]])\n",
    "print(B)\n",
    "np.hsplit(B,2)\n"
   ]
  },
  {
   "cell_type": "markdown",
   "metadata": {
    "colab_type": "text",
    "id": "j7If6FtkbeiW"
   },
   "source": [
    "<a id=\"loop\"> </a>\n",
    "## 5. For Loop"
   ]
  },
  {
   "cell_type": "markdown",
   "metadata": {
    "colab_type": "text",
    "id": "hQnJS7ZmbeiX"
   },
   "source": [
    "<table align=\"left\">\n",
    "    <tr>\n",
    "        <td width=\"6%\">\n",
    "            <img src=\"question_icon.png\">\n",
    "        </td>\n",
    "        <td>\n",
    "            <div align=\"left\", style=\"font-size:120%\">\n",
    "                <font color=\"#21618C\">\n",
    "                    <b>18. Write a program to perform one-to-one mapping of the two lists</b>\n",
    "                </font>\n",
    "            </div>\n",
    "        </td>\n",
    "    </tr>\n",
    "</table>"
   ]
  },
  {
   "cell_type": "markdown",
   "metadata": {
    "colab_type": "text",
    "id": "894hNtHwbeiX"
   },
   "source": [
    "**Use the lists given below: (or create your own lists)**<br>\n",
    "\n",
    "    L1 = [45, 67, 56, 71, 54, 62, 56]\n",
    "\n",
    "    L2 = [21, 52, 64, 10, 49, 74, 26]"
   ]
  },
  {
   "cell_type": "code",
   "execution_count": 55,
   "metadata": {
    "colab": {},
    "colab_type": "code",
    "id": "Ned5rRarbeiX"
   },
   "outputs": [
    {
     "name": "stdout",
     "output_type": "stream",
     "text": [
      "(45, 21)\n",
      "(67, 52)\n",
      "(56, 64)\n",
      "(71, 10)\n",
      "(54, 49)\n",
      "(62, 74)\n",
      "(56, 26)\n"
     ]
    }
   ],
   "source": [
    "L1 = np.array( [45, 67, 56, 71, 54, 62, 56])\n",
    "\n",
    "L2 = np.array([21, 52, 64, 10, 49, 74, 26])\n",
    "for data in zip(L1,L2):\n",
    "    print(data)\n"
   ]
  },
  {
   "cell_type": "markdown",
   "metadata": {
    "colab_type": "text",
    "id": "y1Euz_mMbeib"
   },
   "source": [
    "<table align=\"left\">\n",
    "    <tr>\n",
    "        <td width=\"6%\">\n",
    "            <img src=\"question_icon.png\">\n",
    "        </td>\n",
    "        <td>\n",
    "            <div align=\"left\", style=\"font-size:120%\">\n",
    "                <font color=\"#21618C\">\n",
    "                    <b>19. Define a for loop to apply the function (2x-1)/(x+5) on every element of an array </b>\n",
    "                </font>\n",
    "            </div>\n",
    "        </td>\n",
    "    </tr>\n",
    "</table>"
   ]
  },
  {
   "cell_type": "markdown",
   "metadata": {
    "colab_type": "text",
    "id": "wEbUS--hbeib"
   },
   "source": [
    "**Use the list given below:**\n",
    "    \n",
    "    numbers = [6, 5, 3, 15]"
   ]
  },
  {
   "cell_type": "code",
   "execution_count": 57,
   "metadata": {
    "colab": {},
    "colab_type": "code",
    "id": "hUmj2ep8beib"
   },
   "outputs": [
    {
     "name": "stdout",
     "output_type": "stream",
     "text": [
      "1.0\n",
      "0.9\n",
      "0.625\n",
      "1.45\n"
     ]
    }
   ],
   "source": [
    "numbers = np.array([6, 5, 3, 15])\n",
    "for x in numbers:\n",
    "    print((2*x-1)/(x+5))"
   ]
  },
  {
   "cell_type": "markdown",
   "metadata": {},
   "source": [
    "2. Find the minimum value along each of the rows\n",
    "Create a 2D Numpy array from list of lists\n",
    "num_array = np.array([[110, 102, 183],\n",
    "                 [140, 175, 106],\n",
    "                 [170, 195, 117],\n",
    "                 [192, 140, 195]])"
   ]
  },
  {
   "cell_type": "code",
   "execution_count": 21,
   "metadata": {},
   "outputs": [
    {
     "data": {
      "text/plain": [
       "array([102, 106, 117, 140])"
      ]
     },
     "execution_count": 21,
     "metadata": {},
     "output_type": "execute_result"
    }
   ],
   "source": [
    "num_array = np.array([[110, 102, 183],\n",
    "                 [140, 175, 106],\n",
    "                 [170, 195, 117],\n",
    "                 [192, 140, 195]])\n",
    "num_array.min(axis=1)"
   ]
  },
  {
   "cell_type": "raw",
   "metadata": {},
   "source": [
    " Replace all odd numbers in the array with -2\n",
    "Use the array given below\n",
    "\n",
    "   num_array = np.array([0, 31, 42, 43, 34, 45, 26, 27, 38, 94, 65, 78, 76])"
   ]
  },
  {
   "cell_type": "code",
   "execution_count": 23,
   "metadata": {},
   "outputs": [
    {
     "data": {
      "text/plain": [
       "13"
      ]
     },
     "execution_count": 23,
     "metadata": {},
     "output_type": "execute_result"
    }
   ],
   "source": [
    "num_array = np.array([0, 31, 42, 43, 34, 45, 26, 27, 38, 94, 65, 78, 76])\n",
    "len(num_array)\n"
   ]
  },
  {
   "cell_type": "code",
   "execution_count": 24,
   "metadata": {},
   "outputs": [
    {
     "data": {
      "text/plain": [
       "array([ 0, -2, 42, -2, 34, -2, 26, -2, 38, -2, 65, -2, 76])"
      ]
     },
     "execution_count": 24,
     "metadata": {},
     "output_type": "execute_result"
    }
   ],
   "source": [
    "num_array[1:12:2]=-2\n",
    "num_array"
   ]
  },
  {
   "cell_type": "raw",
   "metadata": {},
   "source": [
    " Get the positions where elements of two arrays match\n",
    "Use the array given below:\n",
    "\n",
    "num_array1 = np.array([1,2,3,2,3,4,3,4,5,6])\n",
    "num_array2 = np.array([7,2,10,2,7,4,9,4,9,8])"
   ]
  },
  {
   "cell_type": "code",
   "execution_count": 26,
   "metadata": {},
   "outputs": [
    {
     "data": {
      "text/plain": [
       "(array([1, 3, 5, 7], dtype=int64),)"
      ]
     },
     "execution_count": 26,
     "metadata": {},
     "output_type": "execute_result"
    }
   ],
   "source": [
    "num_array1 = np.array([1,2,3,2,3,4,3,4,5,6])\n",
    "\n",
    "num_array2 = np.array([7,2,10,2,7,4,9,4,9,8])\n",
    "np.where(num_array1==num_array2 )"
   ]
  },
  {
   "cell_type": "code",
   "execution_count": null,
   "metadata": {},
   "outputs": [],
   "source": [
    "9. Reverse each of the rows of the 2D array\n",
    "Use the array given below:\n",
    "\n",
    "num_array1 = np.arange(16).reshape(4,4)\n",
    "num_array1 = np.arange(16).reshape(4,4)\n",
    "print(num_array1)\n",
    "reverse_array=np.flip(num_array1)\n",
    "reverse_array"
   ]
  },
  {
   "cell_type": "code",
   "execution_count": null,
   "metadata": {},
   "outputs": [],
   "source": [
    "Swap row 1 and row 2 in the given array\n",
    "Use the array given below:\n",
    "\n",
    "   num_array1 = np.arange(9).reshape(3,3)\n",
    "num_array1 = np.arange(9).reshape(3,3)\n",
    "print(num_array1)\n",
    "​\n",
    "num_array1[[0,1], :]=num_array1[[1,0], :]\n",
    "​\n",
    "​\n",
    "num_array1\n",
    "[[0 1 2]\n",
    " [3 4 5]\n",
    " [6 7 8]]\n",
    "array([[3, 4, 5],\n",
    "       [0, 1, 2],\n",
    "       [6, 7, 8]])"
   ]
  },
  {
   "cell_type": "code",
   "execution_count": null,
   "metadata": {},
   "outputs": [],
   "source": []
  },
  {
   "cell_type": "code",
   "execution_count": null,
   "metadata": {},
   "outputs": [],
   "source": []
  }
 ],
 "metadata": {
  "colab": {
   "name": "NPV - In-Class - Lab Exercise (DAY 1) - Questions [v2.0 - 190320].ipynb",
   "provenance": []
  },
  "kernelspec": {
   "display_name": "Python 3",
   "language": "python",
   "name": "python3"
  },
  "language_info": {
   "codemirror_mode": {
    "name": "ipython",
    "version": 3
   },
   "file_extension": ".py",
   "mimetype": "text/x-python",
   "name": "python",
   "nbconvert_exporter": "python",
   "pygments_lexer": "ipython3",
   "version": "3.8.5"
  }
 },
 "nbformat": 4,
 "nbformat_minor": 1
}
